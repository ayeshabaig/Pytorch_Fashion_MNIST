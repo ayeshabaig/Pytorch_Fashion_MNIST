{
  "nbformat": 4,
  "nbformat_minor": 0,
  "metadata": {
    "colab": {
      "name": "Validation.ipynb",
      "provenance": [],
      "collapsed_sections": [],
      "include_colab_link": true
    },
    "language_info": {
      "codemirror_mode": {
        "name": "ipython",
        "version": 3
      },
      "file_extension": ".py",
      "mimetype": "text/x-python",
      "name": "python",
      "nbconvert_exporter": "python",
      "pygments_lexer": "ipython3",
      "version": "3.6.8"
    },
    "kernelspec": {
      "name": "python3",
      "display_name": "Python 3"
    },
    "widgets": {
      "application/vnd.jupyter.widget-state+json": {
        "5ed9cddb55514bf8a886268d0a20f076": {
          "model_module": "@jupyter-widgets/controls",
          "model_name": "HBoxModel",
          "state": {
            "_view_name": "HBoxView",
            "_dom_classes": [],
            "_model_name": "HBoxModel",
            "_view_module": "@jupyter-widgets/controls",
            "_model_module_version": "1.5.0",
            "_view_count": null,
            "_view_module_version": "1.5.0",
            "box_style": "",
            "layout": "IPY_MODEL_0cf26574dba4466394c2f77b7f6e5cf3",
            "_model_module": "@jupyter-widgets/controls",
            "children": [
              "IPY_MODEL_44605d62442e4046a76217a179ac8b16",
              "IPY_MODEL_d2fe921418a54f54867f8bfedcd3a9a0"
            ]
          }
        },
        "0cf26574dba4466394c2f77b7f6e5cf3": {
          "model_module": "@jupyter-widgets/base",
          "model_name": "LayoutModel",
          "state": {
            "_view_name": "LayoutView",
            "grid_template_rows": null,
            "right": null,
            "justify_content": null,
            "_view_module": "@jupyter-widgets/base",
            "overflow": null,
            "_model_module_version": "1.2.0",
            "_view_count": null,
            "flex_flow": null,
            "width": null,
            "min_width": null,
            "border": null,
            "align_items": null,
            "bottom": null,
            "_model_module": "@jupyter-widgets/base",
            "top": null,
            "grid_column": null,
            "overflow_y": null,
            "overflow_x": null,
            "grid_auto_flow": null,
            "grid_area": null,
            "grid_template_columns": null,
            "flex": null,
            "_model_name": "LayoutModel",
            "justify_items": null,
            "grid_row": null,
            "max_height": null,
            "align_content": null,
            "visibility": null,
            "align_self": null,
            "height": null,
            "min_height": null,
            "padding": null,
            "grid_auto_rows": null,
            "grid_gap": null,
            "max_width": null,
            "order": null,
            "_view_module_version": "1.2.0",
            "grid_template_areas": null,
            "object_position": null,
            "object_fit": null,
            "grid_auto_columns": null,
            "margin": null,
            "display": null,
            "left": null
          }
        },
        "44605d62442e4046a76217a179ac8b16": {
          "model_module": "@jupyter-widgets/controls",
          "model_name": "FloatProgressModel",
          "state": {
            "_view_name": "ProgressView",
            "style": "IPY_MODEL_be1230520b834bb2b3448872f65b51cb",
            "_dom_classes": [],
            "description": "",
            "_model_name": "FloatProgressModel",
            "bar_style": "info",
            "max": 1,
            "_view_module": "@jupyter-widgets/controls",
            "_model_module_version": "1.5.0",
            "value": 1,
            "_view_count": null,
            "_view_module_version": "1.5.0",
            "orientation": "horizontal",
            "min": 0,
            "description_tooltip": null,
            "_model_module": "@jupyter-widgets/controls",
            "layout": "IPY_MODEL_e8db713a45b64dbfbc40b05e817edb9a"
          }
        },
        "d2fe921418a54f54867f8bfedcd3a9a0": {
          "model_module": "@jupyter-widgets/controls",
          "model_name": "HTMLModel",
          "state": {
            "_view_name": "HTMLView",
            "style": "IPY_MODEL_4b9633b7457d4f108870b27516c63a98",
            "_dom_classes": [],
            "description": "",
            "_model_name": "HTMLModel",
            "placeholder": "​",
            "_view_module": "@jupyter-widgets/controls",
            "_model_module_version": "1.5.0",
            "value": " 26427392/? [00:20&lt;00:00, 7014744.39it/s]",
            "_view_count": null,
            "_view_module_version": "1.5.0",
            "description_tooltip": null,
            "_model_module": "@jupyter-widgets/controls",
            "layout": "IPY_MODEL_26e770edc0d946079324ad3a6cccb836"
          }
        },
        "be1230520b834bb2b3448872f65b51cb": {
          "model_module": "@jupyter-widgets/controls",
          "model_name": "ProgressStyleModel",
          "state": {
            "_view_name": "StyleView",
            "_model_name": "ProgressStyleModel",
            "description_width": "initial",
            "_view_module": "@jupyter-widgets/base",
            "_model_module_version": "1.5.0",
            "_view_count": null,
            "_view_module_version": "1.2.0",
            "bar_color": null,
            "_model_module": "@jupyter-widgets/controls"
          }
        },
        "e8db713a45b64dbfbc40b05e817edb9a": {
          "model_module": "@jupyter-widgets/base",
          "model_name": "LayoutModel",
          "state": {
            "_view_name": "LayoutView",
            "grid_template_rows": null,
            "right": null,
            "justify_content": null,
            "_view_module": "@jupyter-widgets/base",
            "overflow": null,
            "_model_module_version": "1.2.0",
            "_view_count": null,
            "flex_flow": null,
            "width": null,
            "min_width": null,
            "border": null,
            "align_items": null,
            "bottom": null,
            "_model_module": "@jupyter-widgets/base",
            "top": null,
            "grid_column": null,
            "overflow_y": null,
            "overflow_x": null,
            "grid_auto_flow": null,
            "grid_area": null,
            "grid_template_columns": null,
            "flex": null,
            "_model_name": "LayoutModel",
            "justify_items": null,
            "grid_row": null,
            "max_height": null,
            "align_content": null,
            "visibility": null,
            "align_self": null,
            "height": null,
            "min_height": null,
            "padding": null,
            "grid_auto_rows": null,
            "grid_gap": null,
            "max_width": null,
            "order": null,
            "_view_module_version": "1.2.0",
            "grid_template_areas": null,
            "object_position": null,
            "object_fit": null,
            "grid_auto_columns": null,
            "margin": null,
            "display": null,
            "left": null
          }
        },
        "4b9633b7457d4f108870b27516c63a98": {
          "model_module": "@jupyter-widgets/controls",
          "model_name": "DescriptionStyleModel",
          "state": {
            "_view_name": "StyleView",
            "_model_name": "DescriptionStyleModel",
            "description_width": "",
            "_view_module": "@jupyter-widgets/base",
            "_model_module_version": "1.5.0",
            "_view_count": null,
            "_view_module_version": "1.2.0",
            "_model_module": "@jupyter-widgets/controls"
          }
        },
        "26e770edc0d946079324ad3a6cccb836": {
          "model_module": "@jupyter-widgets/base",
          "model_name": "LayoutModel",
          "state": {
            "_view_name": "LayoutView",
            "grid_template_rows": null,
            "right": null,
            "justify_content": null,
            "_view_module": "@jupyter-widgets/base",
            "overflow": null,
            "_model_module_version": "1.2.0",
            "_view_count": null,
            "flex_flow": null,
            "width": null,
            "min_width": null,
            "border": null,
            "align_items": null,
            "bottom": null,
            "_model_module": "@jupyter-widgets/base",
            "top": null,
            "grid_column": null,
            "overflow_y": null,
            "overflow_x": null,
            "grid_auto_flow": null,
            "grid_area": null,
            "grid_template_columns": null,
            "flex": null,
            "_model_name": "LayoutModel",
            "justify_items": null,
            "grid_row": null,
            "max_height": null,
            "align_content": null,
            "visibility": null,
            "align_self": null,
            "height": null,
            "min_height": null,
            "padding": null,
            "grid_auto_rows": null,
            "grid_gap": null,
            "max_width": null,
            "order": null,
            "_view_module_version": "1.2.0",
            "grid_template_areas": null,
            "object_position": null,
            "object_fit": null,
            "grid_auto_columns": null,
            "margin": null,
            "display": null,
            "left": null
          }
        },
        "a1df504380804f20b4d83a7169189d04": {
          "model_module": "@jupyter-widgets/controls",
          "model_name": "HBoxModel",
          "state": {
            "_view_name": "HBoxView",
            "_dom_classes": [],
            "_model_name": "HBoxModel",
            "_view_module": "@jupyter-widgets/controls",
            "_model_module_version": "1.5.0",
            "_view_count": null,
            "_view_module_version": "1.5.0",
            "box_style": "",
            "layout": "IPY_MODEL_711251108f81493893e2154502caf137",
            "_model_module": "@jupyter-widgets/controls",
            "children": [
              "IPY_MODEL_ae21543bdaf34cf6bb09b365060c33a4",
              "IPY_MODEL_f7b2ea0fa8a94828b3ca9cf936821ae2"
            ]
          }
        },
        "711251108f81493893e2154502caf137": {
          "model_module": "@jupyter-widgets/base",
          "model_name": "LayoutModel",
          "state": {
            "_view_name": "LayoutView",
            "grid_template_rows": null,
            "right": null,
            "justify_content": null,
            "_view_module": "@jupyter-widgets/base",
            "overflow": null,
            "_model_module_version": "1.2.0",
            "_view_count": null,
            "flex_flow": null,
            "width": null,
            "min_width": null,
            "border": null,
            "align_items": null,
            "bottom": null,
            "_model_module": "@jupyter-widgets/base",
            "top": null,
            "grid_column": null,
            "overflow_y": null,
            "overflow_x": null,
            "grid_auto_flow": null,
            "grid_area": null,
            "grid_template_columns": null,
            "flex": null,
            "_model_name": "LayoutModel",
            "justify_items": null,
            "grid_row": null,
            "max_height": null,
            "align_content": null,
            "visibility": null,
            "align_self": null,
            "height": null,
            "min_height": null,
            "padding": null,
            "grid_auto_rows": null,
            "grid_gap": null,
            "max_width": null,
            "order": null,
            "_view_module_version": "1.2.0",
            "grid_template_areas": null,
            "object_position": null,
            "object_fit": null,
            "grid_auto_columns": null,
            "margin": null,
            "display": null,
            "left": null
          }
        },
        "ae21543bdaf34cf6bb09b365060c33a4": {
          "model_module": "@jupyter-widgets/controls",
          "model_name": "FloatProgressModel",
          "state": {
            "_view_name": "ProgressView",
            "style": "IPY_MODEL_a0ebdb41087e4596a85bff2bd4962faf",
            "_dom_classes": [],
            "description": "",
            "_model_name": "FloatProgressModel",
            "bar_style": "success",
            "max": 1,
            "_view_module": "@jupyter-widgets/controls",
            "_model_module_version": "1.5.0",
            "value": 1,
            "_view_count": null,
            "_view_module_version": "1.5.0",
            "orientation": "horizontal",
            "min": 0,
            "description_tooltip": null,
            "_model_module": "@jupyter-widgets/controls",
            "layout": "IPY_MODEL_3250487b85494598ba269788bf88094c"
          }
        },
        "f7b2ea0fa8a94828b3ca9cf936821ae2": {
          "model_module": "@jupyter-widgets/controls",
          "model_name": "HTMLModel",
          "state": {
            "_view_name": "HTMLView",
            "style": "IPY_MODEL_7ef624ed4f574d72bbe0bdd192b1c8f2",
            "_dom_classes": [],
            "description": "",
            "_model_name": "HTMLModel",
            "placeholder": "​",
            "_view_module": "@jupyter-widgets/controls",
            "_model_module_version": "1.5.0",
            "value": " 32768/? [00:02&lt;00:00, 12758.28it/s]",
            "_view_count": null,
            "_view_module_version": "1.5.0",
            "description_tooltip": null,
            "_model_module": "@jupyter-widgets/controls",
            "layout": "IPY_MODEL_e0b0c73b741b4b738d2508e2263a1a7a"
          }
        },
        "a0ebdb41087e4596a85bff2bd4962faf": {
          "model_module": "@jupyter-widgets/controls",
          "model_name": "ProgressStyleModel",
          "state": {
            "_view_name": "StyleView",
            "_model_name": "ProgressStyleModel",
            "description_width": "initial",
            "_view_module": "@jupyter-widgets/base",
            "_model_module_version": "1.5.0",
            "_view_count": null,
            "_view_module_version": "1.2.0",
            "bar_color": null,
            "_model_module": "@jupyter-widgets/controls"
          }
        },
        "3250487b85494598ba269788bf88094c": {
          "model_module": "@jupyter-widgets/base",
          "model_name": "LayoutModel",
          "state": {
            "_view_name": "LayoutView",
            "grid_template_rows": null,
            "right": null,
            "justify_content": null,
            "_view_module": "@jupyter-widgets/base",
            "overflow": null,
            "_model_module_version": "1.2.0",
            "_view_count": null,
            "flex_flow": null,
            "width": null,
            "min_width": null,
            "border": null,
            "align_items": null,
            "bottom": null,
            "_model_module": "@jupyter-widgets/base",
            "top": null,
            "grid_column": null,
            "overflow_y": null,
            "overflow_x": null,
            "grid_auto_flow": null,
            "grid_area": null,
            "grid_template_columns": null,
            "flex": null,
            "_model_name": "LayoutModel",
            "justify_items": null,
            "grid_row": null,
            "max_height": null,
            "align_content": null,
            "visibility": null,
            "align_self": null,
            "height": null,
            "min_height": null,
            "padding": null,
            "grid_auto_rows": null,
            "grid_gap": null,
            "max_width": null,
            "order": null,
            "_view_module_version": "1.2.0",
            "grid_template_areas": null,
            "object_position": null,
            "object_fit": null,
            "grid_auto_columns": null,
            "margin": null,
            "display": null,
            "left": null
          }
        },
        "7ef624ed4f574d72bbe0bdd192b1c8f2": {
          "model_module": "@jupyter-widgets/controls",
          "model_name": "DescriptionStyleModel",
          "state": {
            "_view_name": "StyleView",
            "_model_name": "DescriptionStyleModel",
            "description_width": "",
            "_view_module": "@jupyter-widgets/base",
            "_model_module_version": "1.5.0",
            "_view_count": null,
            "_view_module_version": "1.2.0",
            "_model_module": "@jupyter-widgets/controls"
          }
        },
        "e0b0c73b741b4b738d2508e2263a1a7a": {
          "model_module": "@jupyter-widgets/base",
          "model_name": "LayoutModel",
          "state": {
            "_view_name": "LayoutView",
            "grid_template_rows": null,
            "right": null,
            "justify_content": null,
            "_view_module": "@jupyter-widgets/base",
            "overflow": null,
            "_model_module_version": "1.2.0",
            "_view_count": null,
            "flex_flow": null,
            "width": null,
            "min_width": null,
            "border": null,
            "align_items": null,
            "bottom": null,
            "_model_module": "@jupyter-widgets/base",
            "top": null,
            "grid_column": null,
            "overflow_y": null,
            "overflow_x": null,
            "grid_auto_flow": null,
            "grid_area": null,
            "grid_template_columns": null,
            "flex": null,
            "_model_name": "LayoutModel",
            "justify_items": null,
            "grid_row": null,
            "max_height": null,
            "align_content": null,
            "visibility": null,
            "align_self": null,
            "height": null,
            "min_height": null,
            "padding": null,
            "grid_auto_rows": null,
            "grid_gap": null,
            "max_width": null,
            "order": null,
            "_view_module_version": "1.2.0",
            "grid_template_areas": null,
            "object_position": null,
            "object_fit": null,
            "grid_auto_columns": null,
            "margin": null,
            "display": null,
            "left": null
          }
        },
        "2cbf120a7168461ba3e3cb01916cd6f1": {
          "model_module": "@jupyter-widgets/controls",
          "model_name": "HBoxModel",
          "state": {
            "_view_name": "HBoxView",
            "_dom_classes": [],
            "_model_name": "HBoxModel",
            "_view_module": "@jupyter-widgets/controls",
            "_model_module_version": "1.5.0",
            "_view_count": null,
            "_view_module_version": "1.5.0",
            "box_style": "",
            "layout": "IPY_MODEL_42d7327499da4a07818889a24800bf95",
            "_model_module": "@jupyter-widgets/controls",
            "children": [
              "IPY_MODEL_7a802829bdad4d89a676badf19aa6dc2",
              "IPY_MODEL_b6cf39b552c0477f8635e68ec5fb64e2"
            ]
          }
        },
        "42d7327499da4a07818889a24800bf95": {
          "model_module": "@jupyter-widgets/base",
          "model_name": "LayoutModel",
          "state": {
            "_view_name": "LayoutView",
            "grid_template_rows": null,
            "right": null,
            "justify_content": null,
            "_view_module": "@jupyter-widgets/base",
            "overflow": null,
            "_model_module_version": "1.2.0",
            "_view_count": null,
            "flex_flow": null,
            "width": null,
            "min_width": null,
            "border": null,
            "align_items": null,
            "bottom": null,
            "_model_module": "@jupyter-widgets/base",
            "top": null,
            "grid_column": null,
            "overflow_y": null,
            "overflow_x": null,
            "grid_auto_flow": null,
            "grid_area": null,
            "grid_template_columns": null,
            "flex": null,
            "_model_name": "LayoutModel",
            "justify_items": null,
            "grid_row": null,
            "max_height": null,
            "align_content": null,
            "visibility": null,
            "align_self": null,
            "height": null,
            "min_height": null,
            "padding": null,
            "grid_auto_rows": null,
            "grid_gap": null,
            "max_width": null,
            "order": null,
            "_view_module_version": "1.2.0",
            "grid_template_areas": null,
            "object_position": null,
            "object_fit": null,
            "grid_auto_columns": null,
            "margin": null,
            "display": null,
            "left": null
          }
        },
        "7a802829bdad4d89a676badf19aa6dc2": {
          "model_module": "@jupyter-widgets/controls",
          "model_name": "FloatProgressModel",
          "state": {
            "_view_name": "ProgressView",
            "style": "IPY_MODEL_f9cebce6826c4d83bed4cccb4bd11719",
            "_dom_classes": [],
            "description": "",
            "_model_name": "FloatProgressModel",
            "bar_style": "success",
            "max": 1,
            "_view_module": "@jupyter-widgets/controls",
            "_model_module_version": "1.5.0",
            "value": 1,
            "_view_count": null,
            "_view_module_version": "1.5.0",
            "orientation": "horizontal",
            "min": 0,
            "description_tooltip": null,
            "_model_module": "@jupyter-widgets/controls",
            "layout": "IPY_MODEL_94e8bd5993564ff1975c4ab6ec4a373c"
          }
        },
        "b6cf39b552c0477f8635e68ec5fb64e2": {
          "model_module": "@jupyter-widgets/controls",
          "model_name": "HTMLModel",
          "state": {
            "_view_name": "HTMLView",
            "style": "IPY_MODEL_a7edcfe51c0a4876b5c5119dd53e9d31",
            "_dom_classes": [],
            "description": "",
            "_model_name": "HTMLModel",
            "placeholder": "​",
            "_view_module": "@jupyter-widgets/controls",
            "_model_module_version": "1.5.0",
            "value": " 4423680/? [00:02&lt;00:00, 2135548.31it/s]",
            "_view_count": null,
            "_view_module_version": "1.5.0",
            "description_tooltip": null,
            "_model_module": "@jupyter-widgets/controls",
            "layout": "IPY_MODEL_66a5a10385c748e1aede1d186a759e01"
          }
        },
        "f9cebce6826c4d83bed4cccb4bd11719": {
          "model_module": "@jupyter-widgets/controls",
          "model_name": "ProgressStyleModel",
          "state": {
            "_view_name": "StyleView",
            "_model_name": "ProgressStyleModel",
            "description_width": "initial",
            "_view_module": "@jupyter-widgets/base",
            "_model_module_version": "1.5.0",
            "_view_count": null,
            "_view_module_version": "1.2.0",
            "bar_color": null,
            "_model_module": "@jupyter-widgets/controls"
          }
        },
        "94e8bd5993564ff1975c4ab6ec4a373c": {
          "model_module": "@jupyter-widgets/base",
          "model_name": "LayoutModel",
          "state": {
            "_view_name": "LayoutView",
            "grid_template_rows": null,
            "right": null,
            "justify_content": null,
            "_view_module": "@jupyter-widgets/base",
            "overflow": null,
            "_model_module_version": "1.2.0",
            "_view_count": null,
            "flex_flow": null,
            "width": null,
            "min_width": null,
            "border": null,
            "align_items": null,
            "bottom": null,
            "_model_module": "@jupyter-widgets/base",
            "top": null,
            "grid_column": null,
            "overflow_y": null,
            "overflow_x": null,
            "grid_auto_flow": null,
            "grid_area": null,
            "grid_template_columns": null,
            "flex": null,
            "_model_name": "LayoutModel",
            "justify_items": null,
            "grid_row": null,
            "max_height": null,
            "align_content": null,
            "visibility": null,
            "align_self": null,
            "height": null,
            "min_height": null,
            "padding": null,
            "grid_auto_rows": null,
            "grid_gap": null,
            "max_width": null,
            "order": null,
            "_view_module_version": "1.2.0",
            "grid_template_areas": null,
            "object_position": null,
            "object_fit": null,
            "grid_auto_columns": null,
            "margin": null,
            "display": null,
            "left": null
          }
        },
        "a7edcfe51c0a4876b5c5119dd53e9d31": {
          "model_module": "@jupyter-widgets/controls",
          "model_name": "DescriptionStyleModel",
          "state": {
            "_view_name": "StyleView",
            "_model_name": "DescriptionStyleModel",
            "description_width": "",
            "_view_module": "@jupyter-widgets/base",
            "_model_module_version": "1.5.0",
            "_view_count": null,
            "_view_module_version": "1.2.0",
            "_model_module": "@jupyter-widgets/controls"
          }
        },
        "66a5a10385c748e1aede1d186a759e01": {
          "model_module": "@jupyter-widgets/base",
          "model_name": "LayoutModel",
          "state": {
            "_view_name": "LayoutView",
            "grid_template_rows": null,
            "right": null,
            "justify_content": null,
            "_view_module": "@jupyter-widgets/base",
            "overflow": null,
            "_model_module_version": "1.2.0",
            "_view_count": null,
            "flex_flow": null,
            "width": null,
            "min_width": null,
            "border": null,
            "align_items": null,
            "bottom": null,
            "_model_module": "@jupyter-widgets/base",
            "top": null,
            "grid_column": null,
            "overflow_y": null,
            "overflow_x": null,
            "grid_auto_flow": null,
            "grid_area": null,
            "grid_template_columns": null,
            "flex": null,
            "_model_name": "LayoutModel",
            "justify_items": null,
            "grid_row": null,
            "max_height": null,
            "align_content": null,
            "visibility": null,
            "align_self": null,
            "height": null,
            "min_height": null,
            "padding": null,
            "grid_auto_rows": null,
            "grid_gap": null,
            "max_width": null,
            "order": null,
            "_view_module_version": "1.2.0",
            "grid_template_areas": null,
            "object_position": null,
            "object_fit": null,
            "grid_auto_columns": null,
            "margin": null,
            "display": null,
            "left": null
          }
        },
        "386a3b146e944f759c1ae125caed7e3d": {
          "model_module": "@jupyter-widgets/controls",
          "model_name": "HBoxModel",
          "state": {
            "_view_name": "HBoxView",
            "_dom_classes": [],
            "_model_name": "HBoxModel",
            "_view_module": "@jupyter-widgets/controls",
            "_model_module_version": "1.5.0",
            "_view_count": null,
            "_view_module_version": "1.5.0",
            "box_style": "",
            "layout": "IPY_MODEL_8d4b88dae592492d95166a50f8825e40",
            "_model_module": "@jupyter-widgets/controls",
            "children": [
              "IPY_MODEL_cc45cfd9c20c430aa034bbeb04f42db8",
              "IPY_MODEL_e122f6b45d7c40d5b2ab85c586c1c77e"
            ]
          }
        },
        "8d4b88dae592492d95166a50f8825e40": {
          "model_module": "@jupyter-widgets/base",
          "model_name": "LayoutModel",
          "state": {
            "_view_name": "LayoutView",
            "grid_template_rows": null,
            "right": null,
            "justify_content": null,
            "_view_module": "@jupyter-widgets/base",
            "overflow": null,
            "_model_module_version": "1.2.0",
            "_view_count": null,
            "flex_flow": null,
            "width": null,
            "min_width": null,
            "border": null,
            "align_items": null,
            "bottom": null,
            "_model_module": "@jupyter-widgets/base",
            "top": null,
            "grid_column": null,
            "overflow_y": null,
            "overflow_x": null,
            "grid_auto_flow": null,
            "grid_area": null,
            "grid_template_columns": null,
            "flex": null,
            "_model_name": "LayoutModel",
            "justify_items": null,
            "grid_row": null,
            "max_height": null,
            "align_content": null,
            "visibility": null,
            "align_self": null,
            "height": null,
            "min_height": null,
            "padding": null,
            "grid_auto_rows": null,
            "grid_gap": null,
            "max_width": null,
            "order": null,
            "_view_module_version": "1.2.0",
            "grid_template_areas": null,
            "object_position": null,
            "object_fit": null,
            "grid_auto_columns": null,
            "margin": null,
            "display": null,
            "left": null
          }
        },
        "cc45cfd9c20c430aa034bbeb04f42db8": {
          "model_module": "@jupyter-widgets/controls",
          "model_name": "FloatProgressModel",
          "state": {
            "_view_name": "ProgressView",
            "style": "IPY_MODEL_26ce859e67484f8fbdb423a4a1a12eb1",
            "_dom_classes": [],
            "description": "",
            "_model_name": "FloatProgressModel",
            "bar_style": "success",
            "max": 1,
            "_view_module": "@jupyter-widgets/controls",
            "_model_module_version": "1.5.0",
            "value": 1,
            "_view_count": null,
            "_view_module_version": "1.5.0",
            "orientation": "horizontal",
            "min": 0,
            "description_tooltip": null,
            "_model_module": "@jupyter-widgets/controls",
            "layout": "IPY_MODEL_ee30ba9faddf45689724c0f872dff55a"
          }
        },
        "e122f6b45d7c40d5b2ab85c586c1c77e": {
          "model_module": "@jupyter-widgets/controls",
          "model_name": "HTMLModel",
          "state": {
            "_view_name": "HTMLView",
            "style": "IPY_MODEL_dee1a6f9eb254ad8a3f526bcd8ffd911",
            "_dom_classes": [],
            "description": "",
            "_model_name": "HTMLModel",
            "placeholder": "​",
            "_view_module": "@jupyter-widgets/controls",
            "_model_module_version": "1.5.0",
            "value": " 8192/? [00:00&lt;00:00, 16727.61it/s]",
            "_view_count": null,
            "_view_module_version": "1.5.0",
            "description_tooltip": null,
            "_model_module": "@jupyter-widgets/controls",
            "layout": "IPY_MODEL_91497fb8d1e64cac869b3b02d5a32bb7"
          }
        },
        "26ce859e67484f8fbdb423a4a1a12eb1": {
          "model_module": "@jupyter-widgets/controls",
          "model_name": "ProgressStyleModel",
          "state": {
            "_view_name": "StyleView",
            "_model_name": "ProgressStyleModel",
            "description_width": "initial",
            "_view_module": "@jupyter-widgets/base",
            "_model_module_version": "1.5.0",
            "_view_count": null,
            "_view_module_version": "1.2.0",
            "bar_color": null,
            "_model_module": "@jupyter-widgets/controls"
          }
        },
        "ee30ba9faddf45689724c0f872dff55a": {
          "model_module": "@jupyter-widgets/base",
          "model_name": "LayoutModel",
          "state": {
            "_view_name": "LayoutView",
            "grid_template_rows": null,
            "right": null,
            "justify_content": null,
            "_view_module": "@jupyter-widgets/base",
            "overflow": null,
            "_model_module_version": "1.2.0",
            "_view_count": null,
            "flex_flow": null,
            "width": null,
            "min_width": null,
            "border": null,
            "align_items": null,
            "bottom": null,
            "_model_module": "@jupyter-widgets/base",
            "top": null,
            "grid_column": null,
            "overflow_y": null,
            "overflow_x": null,
            "grid_auto_flow": null,
            "grid_area": null,
            "grid_template_columns": null,
            "flex": null,
            "_model_name": "LayoutModel",
            "justify_items": null,
            "grid_row": null,
            "max_height": null,
            "align_content": null,
            "visibility": null,
            "align_self": null,
            "height": null,
            "min_height": null,
            "padding": null,
            "grid_auto_rows": null,
            "grid_gap": null,
            "max_width": null,
            "order": null,
            "_view_module_version": "1.2.0",
            "grid_template_areas": null,
            "object_position": null,
            "object_fit": null,
            "grid_auto_columns": null,
            "margin": null,
            "display": null,
            "left": null
          }
        },
        "dee1a6f9eb254ad8a3f526bcd8ffd911": {
          "model_module": "@jupyter-widgets/controls",
          "model_name": "DescriptionStyleModel",
          "state": {
            "_view_name": "StyleView",
            "_model_name": "DescriptionStyleModel",
            "description_width": "",
            "_view_module": "@jupyter-widgets/base",
            "_model_module_version": "1.5.0",
            "_view_count": null,
            "_view_module_version": "1.2.0",
            "_model_module": "@jupyter-widgets/controls"
          }
        },
        "91497fb8d1e64cac869b3b02d5a32bb7": {
          "model_module": "@jupyter-widgets/base",
          "model_name": "LayoutModel",
          "state": {
            "_view_name": "LayoutView",
            "grid_template_rows": null,
            "right": null,
            "justify_content": null,
            "_view_module": "@jupyter-widgets/base",
            "overflow": null,
            "_model_module_version": "1.2.0",
            "_view_count": null,
            "flex_flow": null,
            "width": null,
            "min_width": null,
            "border": null,
            "align_items": null,
            "bottom": null,
            "_model_module": "@jupyter-widgets/base",
            "top": null,
            "grid_column": null,
            "overflow_y": null,
            "overflow_x": null,
            "grid_auto_flow": null,
            "grid_area": null,
            "grid_template_columns": null,
            "flex": null,
            "_model_name": "LayoutModel",
            "justify_items": null,
            "grid_row": null,
            "max_height": null,
            "align_content": null,
            "visibility": null,
            "align_self": null,
            "height": null,
            "min_height": null,
            "padding": null,
            "grid_auto_rows": null,
            "grid_gap": null,
            "max_width": null,
            "order": null,
            "_view_module_version": "1.2.0",
            "grid_template_areas": null,
            "object_position": null,
            "object_fit": null,
            "grid_auto_columns": null,
            "margin": null,
            "display": null,
            "left": null
          }
        }
      }
    }
  },
  "cells": [
    {
      "cell_type": "markdown",
      "metadata": {
        "id": "view-in-github",
        "colab_type": "text"
      },
      "source": [
        "<a href=\"https://colab.research.google.com/github/ayeshabaig/Pytorch_Fashion_MNIST/blob/master/Validation.ipynb\" target=\"_parent\"><img src=\"https://colab.research.google.com/assets/colab-badge.svg\" alt=\"Open In Colab\"/></a>"
      ]
    },
    {
      "cell_type": "markdown",
      "metadata": {
        "colab_type": "text",
        "id": "gXmCHcwKs6rd"
      },
      "source": [
        "# Validation"
      ]
    },
    {
      "cell_type": "code",
      "metadata": {
        "colab_type": "code",
        "id": "PzCCniVwNTdp",
        "colab": {}
      },
      "source": [
        "# Setting seeds to try and ensure we have the same results - this is not guaranteed across PyTorch releases.\n",
        "import torch\n",
        "torch.manual_seed(0)\n",
        "torch.backends.cudnn.deterministic = True\n",
        "torch.backends.cudnn.benchmark = False\n",
        "\n",
        "import numpy as np\n",
        "np.random.seed(0)"
      ],
      "execution_count": 1,
      "outputs": []
    },
    {
      "cell_type": "code",
      "metadata": {
        "colab_type": "code",
        "id": "PCJzXv0OK1Bs",
        "colab": {
          "base_uri": "https://localhost:8080/",
          "height": 356,
          "referenced_widgets": [
            "5ed9cddb55514bf8a886268d0a20f076",
            "0cf26574dba4466394c2f77b7f6e5cf3",
            "44605d62442e4046a76217a179ac8b16",
            "d2fe921418a54f54867f8bfedcd3a9a0",
            "be1230520b834bb2b3448872f65b51cb",
            "e8db713a45b64dbfbc40b05e817edb9a",
            "4b9633b7457d4f108870b27516c63a98",
            "26e770edc0d946079324ad3a6cccb836",
            "a1df504380804f20b4d83a7169189d04",
            "711251108f81493893e2154502caf137",
            "ae21543bdaf34cf6bb09b365060c33a4",
            "f7b2ea0fa8a94828b3ca9cf936821ae2",
            "a0ebdb41087e4596a85bff2bd4962faf",
            "3250487b85494598ba269788bf88094c",
            "7ef624ed4f574d72bbe0bdd192b1c8f2",
            "e0b0c73b741b4b738d2508e2263a1a7a",
            "2cbf120a7168461ba3e3cb01916cd6f1",
            "42d7327499da4a07818889a24800bf95",
            "7a802829bdad4d89a676badf19aa6dc2",
            "b6cf39b552c0477f8635e68ec5fb64e2",
            "f9cebce6826c4d83bed4cccb4bd11719",
            "94e8bd5993564ff1975c4ab6ec4a373c",
            "a7edcfe51c0a4876b5c5119dd53e9d31",
            "66a5a10385c748e1aede1d186a759e01",
            "386a3b146e944f759c1ae125caed7e3d",
            "8d4b88dae592492d95166a50f8825e40",
            "cc45cfd9c20c430aa034bbeb04f42db8",
            "e122f6b45d7c40d5b2ab85c586c1c77e",
            "26ce859e67484f8fbdb423a4a1a12eb1",
            "ee30ba9faddf45689724c0f872dff55a",
            "dee1a6f9eb254ad8a3f526bcd8ffd911",
            "91497fb8d1e64cac869b3b02d5a32bb7"
          ]
        },
        "outputId": "81bd08c0-5e69-4a96-cb6e-695814e977e2"
      },
      "source": [
        "from torchvision import datasets, transforms\n",
        "import torch.nn.functional as F\n",
        "from torch import nn\n",
        "\n",
        "mean, std = (0.5,), (0.5,)\n",
        "\n",
        "# Create a transform and normalise data\n",
        "transform = transforms.Compose([transforms.ToTensor(),\n",
        "                                transforms.Normalize(mean, std)\n",
        "                              ])\n",
        "\n",
        "# Download FMNIST training dataset and load training data\n",
        "trainset = datasets.FashionMNIST('~/.pytorch/FMNIST/', download=True, train=True, transform=transform)\n",
        "trainloader = torch.utils.data.DataLoader(trainset, batch_size=64, shuffle=True)\n",
        "\n",
        "# Download FMNIST test dataset and load test data\n",
        "testset = datasets.FashionMNIST('~/.pytorch/FMNIST/', download=True, train=False, transform=transform)\n",
        "testloader = torch.utils.data.DataLoader(testset, batch_size=64, shuffle=False)"
      ],
      "execution_count": 2,
      "outputs": [
        {
          "output_type": "stream",
          "text": [
            "Downloading http://fashion-mnist.s3-website.eu-central-1.amazonaws.com/train-images-idx3-ubyte.gz to /root/.pytorch/FMNIST/FashionMNIST/raw/train-images-idx3-ubyte.gz\n"
          ],
          "name": "stdout"
        },
        {
          "output_type": "display_data",
          "data": {
            "application/vnd.jupyter.widget-view+json": {
              "model_id": "5ed9cddb55514bf8a886268d0a20f076",
              "version_minor": 0,
              "version_major": 2
            },
            "text/plain": [
              "HBox(children=(FloatProgress(value=1.0, bar_style='info', max=1.0), HTML(value='')))"
            ]
          },
          "metadata": {
            "tags": []
          }
        },
        {
          "output_type": "stream",
          "text": [
            "Extracting /root/.pytorch/FMNIST/FashionMNIST/raw/train-images-idx3-ubyte.gz to /root/.pytorch/FMNIST/FashionMNIST/raw\n",
            "Downloading http://fashion-mnist.s3-website.eu-central-1.amazonaws.com/train-labels-idx1-ubyte.gz to /root/.pytorch/FMNIST/FashionMNIST/raw/train-labels-idx1-ubyte.gz\n"
          ],
          "name": "stdout"
        },
        {
          "output_type": "display_data",
          "data": {
            "application/vnd.jupyter.widget-view+json": {
              "model_id": "a1df504380804f20b4d83a7169189d04",
              "version_minor": 0,
              "version_major": 2
            },
            "text/plain": [
              "HBox(children=(FloatProgress(value=1.0, bar_style='info', max=1.0), HTML(value='')))"
            ]
          },
          "metadata": {
            "tags": []
          }
        },
        {
          "output_type": "stream",
          "text": [
            "Extracting /root/.pytorch/FMNIST/FashionMNIST/raw/train-labels-idx1-ubyte.gz to /root/.pytorch/FMNIST/FashionMNIST/raw\n",
            "Downloading http://fashion-mnist.s3-website.eu-central-1.amazonaws.com/t10k-images-idx3-ubyte.gz to /root/.pytorch/FMNIST/FashionMNIST/raw/t10k-images-idx3-ubyte.gz\n"
          ],
          "name": "stdout"
        },
        {
          "output_type": "display_data",
          "data": {
            "application/vnd.jupyter.widget-view+json": {
              "model_id": "2cbf120a7168461ba3e3cb01916cd6f1",
              "version_minor": 0,
              "version_major": 2
            },
            "text/plain": [
              "HBox(children=(FloatProgress(value=1.0, bar_style='info', max=1.0), HTML(value='')))"
            ]
          },
          "metadata": {
            "tags": []
          }
        },
        {
          "output_type": "stream",
          "text": [
            "Extracting /root/.pytorch/FMNIST/FashionMNIST/raw/t10k-images-idx3-ubyte.gz to /root/.pytorch/FMNIST/FashionMNIST/raw\n",
            "Downloading http://fashion-mnist.s3-website.eu-central-1.amazonaws.com/t10k-labels-idx1-ubyte.gz to /root/.pytorch/FMNIST/FashionMNIST/raw/t10k-labels-idx1-ubyte.gz\n"
          ],
          "name": "stdout"
        },
        {
          "output_type": "display_data",
          "data": {
            "application/vnd.jupyter.widget-view+json": {
              "model_id": "386a3b146e944f759c1ae125caed7e3d",
              "version_minor": 0,
              "version_major": 2
            },
            "text/plain": [
              "HBox(children=(FloatProgress(value=1.0, bar_style='info', max=1.0), HTML(value='')))"
            ]
          },
          "metadata": {
            "tags": []
          }
        },
        {
          "output_type": "stream",
          "text": [
            "Extracting /root/.pytorch/FMNIST/FashionMNIST/raw/t10k-labels-idx1-ubyte.gz to /root/.pytorch/FMNIST/FashionMNIST/raw\n",
            "Processing...\n",
            "Done!\n"
          ],
          "name": "stdout"
        },
        {
          "output_type": "stream",
          "text": [
            "/pytorch/torch/csrc/utils/tensor_numpy.cpp:141: UserWarning: The given NumPy array is not writeable, and PyTorch does not support non-writeable tensors. This means you can write to the underlying (supposedly non-writeable) NumPy array using the tensor. You may want to copy the array to protect its data or make it writeable before converting it to a tensor. This type of warning will be suppressed for the rest of this program.\n"
          ],
          "name": "stderr"
        }
      ]
    },
    {
      "cell_type": "code",
      "metadata": {
        "colab_type": "code",
        "id": "rqMqFbIVrbFH",
        "colab": {
          "base_uri": "https://localhost:8080/",
          "height": 69
        },
        "outputId": "b16b56c9-7539-4f0e-dba1-8d48aa153611"
      },
      "source": [
        "class FMNIST(nn.Module):\n",
        "  def __init__(self):\n",
        "    super().__init__()\n",
        "    self.fc1 = nn.Linear(784, 128)\n",
        "    self.fc2 = nn.Linear(128,64)\n",
        "    self.fc3 = nn.Linear(64,10)\n",
        "    \n",
        "  def forward(self, x):\n",
        "    x = x.view(x.shape[0], -1)\n",
        "    \n",
        "    x = F.relu(self.fc1(x))\n",
        "    x = F.relu(self.fc2(x))\n",
        "    x = self.fc3(x)\n",
        "    x = F.log_softmax(x, dim=1)\n",
        "    \n",
        "    return x\n",
        "\n",
        "model = FMNIST()"
      ],
      "execution_count": 3,
      "outputs": [
        {
          "output_type": "stream",
          "text": [
            "\n",
            "\n",
            "\n"
          ],
          "name": "stdout"
        }
      ]
    },
    {
      "cell_type": "code",
      "metadata": {
        "colab_type": "code",
        "id": "oNNyI5YRZ7H1",
        "colab": {
          "base_uri": "https://localhost:8080/",
          "height": 69
        },
        "outputId": "e390423d-933e-4e73-a4f0-699bb86b82ed"
      },
      "source": [
        "from torch import optim\n",
        "\n",
        "criterion = nn.NLLLoss()\n",
        "optimizer = optim.SGD(model.parameters(), lr=0.01)\n",
        "\n",
        "num_epochs = 3\n",
        "\n",
        "for i in range(num_epochs):\n",
        "    cum_loss = 0\n",
        "\n",
        "    for images, labels in trainloader:\n",
        "        optimizer.zero_grad()\n",
        "        output = model(images)\n",
        "        loss = criterion(output, labels)\n",
        "        loss.backward()\n",
        "        optimizer.step()\n",
        "        \n",
        "        cum_loss += loss.item()\n",
        "     \n",
        "    print(f\"Training loss: {cum_loss/len(trainloader)}\")"
      ],
      "execution_count": 4,
      "outputs": [
        {
          "output_type": "stream",
          "text": [
            "Training loss: 1.0330901488757083\n",
            "Training loss: 0.5605125179740665\n",
            "Training loss: 0.489968909113519\n"
          ],
          "name": "stdout"
        }
      ]
    },
    {
      "cell_type": "code",
      "metadata": {
        "colab_type": "code",
        "id": "UWYw7ZOzsS8U",
        "colab": {}
      },
      "source": [
        "import matplotlib.pyplot as plt\n",
        "%matplotlib inline\n",
        "\n",
        "images, labels = next(iter(testloader))\n",
        "\n",
        "test_image_id = 0 \n",
        "img = images[test_image_id].view(1, 784) \n",
        "\n",
        "with torch.no_grad():\n",
        "    logps = model(img)"
      ],
      "execution_count": 5,
      "outputs": []
    },
    {
      "cell_type": "code",
      "metadata": {
        "id": "2tRjoEDSqY8X",
        "colab_type": "code",
        "colab": {
          "base_uri": "https://localhost:8080/",
          "height": 52
        },
        "outputId": "01a71e09-0310-4e01-fe21-a841886654cf"
      },
      "source": [
        "ps = torch.exp(logps)\n",
        "ps"
      ],
      "execution_count": 6,
      "outputs": [
        {
          "output_type": "execute_result",
          "data": {
            "text/plain": [
              "tensor([[2.3051e-06, 2.8886e-07, 5.5645e-06, 1.1207e-06, 4.0320e-06, 1.0624e-01,\n",
              "         6.2821e-06, 3.2345e-01, 6.4055e-03, 5.6388e-01]])"
            ]
          },
          "metadata": {
            "tags": []
          },
          "execution_count": 6
        }
      ]
    },
    {
      "cell_type": "code",
      "metadata": {
        "id": "dpP_RLV-qkc6",
        "colab_type": "code",
        "colab": {
          "base_uri": "https://localhost:8080/",
          "height": 69
        },
        "outputId": "55a3400b-2f67-48d7-de40-cf0b0085c5c1"
      },
      "source": [
        "nps = ps.numpy()[0]\n",
        "nps"
      ],
      "execution_count": 7,
      "outputs": [
        {
          "output_type": "execute_result",
          "data": {
            "text/plain": [
              "array([2.3050950e-06, 2.8885788e-07, 5.5644973e-06, 1.1206828e-06,\n",
              "       4.0320292e-06, 1.0624298e-01, 6.2820591e-06, 3.2345253e-01,\n",
              "       6.4055435e-03, 5.6387937e-01], dtype=float32)"
            ]
          },
          "metadata": {
            "tags": []
          },
          "execution_count": 7
        }
      ]
    },
    {
      "cell_type": "code",
      "metadata": {
        "id": "kBf23XrtqrB6",
        "colab_type": "code",
        "colab": {
          "base_uri": "https://localhost:8080/",
          "height": 332
        },
        "outputId": "afba53fe-cacf-48e1-ef14-7715f1ad8d64"
      },
      "source": [
        "FMNIST_labels = ['T-shirt/top','Trouser','Pullover','Dress','Coat','Sandal','Shirt','Sport Shoes','Bag','Ankle Boots']\n",
        "plt.xticks(np.arange(10),labels=FMNIST_labels,rotation='vertical')\n",
        "plt.bar(np.arange(10), nps)"
      ],
      "execution_count": 8,
      "outputs": [
        {
          "output_type": "execute_result",
          "data": {
            "text/plain": [
              "<BarContainer object of 10 artists>"
            ]
          },
          "metadata": {
            "tags": []
          },
          "execution_count": 8
        },
        {
          "output_type": "display_data",
          "data": {
            "image/png": "[encoded data removed]",
            "text/plain": [
              "<Figure size 432x288 with 1 Axes>"
            ]
          },
          "metadata": {
            "tags": [],
            "needs_background": "light"
          }
        }
      ]
    },
    {
      "cell_type": "code",
      "metadata": {
        "id": "Y7gY5hARpOp4",
        "colab_type": "code",
        "colab": {
          "base_uri": "https://localhost:8080/",
          "height": 282
        },
        "outputId": "591cc343-550f-4025-e5ec-ad94877c78d9"
      },
      "source": [
        "def denormalize(tensor):\n",
        "  tensor = tensor*0.5 + 0.5\n",
        "  return tensor\n",
        "  \n",
        "img = img.view(28,-1)\n",
        "img = denormalize(img)\n",
        "plt.imshow(img,cmap='gray')"
      ],
      "execution_count": 9,
      "outputs": [
        {
          "output_type": "execute_result",
          "data": {
            "text/plain": [
              "<matplotlib.image.AxesImage at 0x7fe400c97390>"
            ]
          },
          "metadata": {
            "tags": []
          },
          "execution_count": 9
        },
        {
          "output_type": "display_data",
          "data": {
            "image/png": "[encoded data removed]",
            "text/plain": [
              "<Figure size 432x288 with 1 Axes>"
            ]
          },
          "metadata": {
            "tags": [],
            "needs_background": "light"
          }
        }
      ]
    },
    {
      "cell_type": "code",
      "metadata": {
        "id": "AxTiil7cXOAz",
        "colab_type": "code",
        "colab": {
          "base_uri": "https://localhost:8080/",
          "height": 1000
        },
        "outputId": "dfc52a05-4e11-49e4-ca17-5204c4b80363"
      },
      "source": [
        "with torch.no_grad():\n",
        "    num_correct = 0\n",
        "    total = 0\n",
        "\n",
        "    cnt = 0\n",
        "    for images, labels in testloader:\n",
        "        \n",
        "        logps = model(images)\n",
        "        output = torch.exp(logps)\n",
        "        print(output)\n",
        "        cnt+=1\n",
        "        \n",
        "        if cnt > 0:\n",
        "          break"
      ],
      "execution_count": 10,
      "outputs": [
        {
          "output_type": "stream",
          "text": [
            "tensor([[2.3051e-06, 2.8886e-07, 5.5645e-06, 1.1207e-06, 4.0320e-06, 1.0624e-01,\n",
            "         6.2821e-06, 3.2345e-01, 6.4055e-03, 5.6388e-01],\n",
            "        [1.2397e-03, 4.2056e-05, 8.9684e-01, 1.9302e-04, 1.8025e-02, 9.2521e-06,\n",
            "         8.2854e-02, 5.5568e-09, 7.9452e-04, 3.7783e-07],\n",
            "        [3.3477e-05, 9.9974e-01, 3.0429e-05, 1.1762e-04, 7.2658e-05, 2.6182e-08,\n",
            "         2.3471e-07, 6.9006e-07, 8.3237e-09, 1.2988e-08],\n",
            "        [8.5602e-06, 9.9946e-01, 3.6512e-05, 4.4672e-04, 4.7825e-05, 1.9076e-07,\n",
            "         1.7559e-07, 3.0357e-06, 1.6161e-08, 8.9395e-08],\n",
            "        [1.4137e-01, 4.8202e-04, 1.4513e-01, 1.4251e-02, 1.0436e-02, 2.2394e-04,\n",
            "         6.7884e-01, 1.1804e-06, 9.2477e-03, 1.0730e-05],\n",
            "        [4.1209e-03, 9.8321e-01, 9.1219e-04, 2.7904e-03, 8.7960e-03, 6.3795e-07,\n",
            "         1.5992e-04, 5.0648e-06, 2.2776e-06, 3.3882e-07],\n",
            "        [2.5803e-02, 9.8072e-04, 5.6244e-02, 1.4162e-03, 6.8839e-01, 1.2566e-04,\n",
            "         2.2351e-01, 1.1364e-06, 3.5361e-03, 1.4898e-06],\n",
            "        [7.5081e-03, 2.2189e-04, 6.8319e-02, 2.7395e-03, 1.3822e-01, 3.4041e-04,\n",
            "         7.6837e-01, 5.4516e-07, 1.4267e-02, 5.2279e-06],\n",
            "        [1.9888e-02, 2.1191e-03, 1.7194e-02, 2.0853e-02, 4.6235e-03, 7.1190e-01,\n",
            "         1.7789e-02, 1.5665e-01, 4.6861e-02, 2.1175e-03],\n",
            "        [1.9863e-05, 4.8608e-06, 1.0864e-05, 3.2911e-05, 2.8125e-05, 1.7812e-02,\n",
            "         1.3424e-05, 9.7722e-01, 2.3239e-03, 2.5311e-03],\n",
            "        [1.2652e-03, 1.3070e-02, 4.0640e-01, 1.7072e-03, 4.9263e-01, 5.2095e-05,\n",
            "         8.4550e-02, 2.9670e-07, 3.2012e-04, 4.1492e-06],\n",
            "        [1.3959e-04, 2.4560e-05, 6.7349e-04, 6.9291e-05, 2.8998e-04, 7.1255e-01,\n",
            "         4.4490e-04, 1.7641e-01, 2.4858e-02, 8.4538e-02],\n",
            "        [4.2161e-04, 7.8220e-05, 2.0461e-03, 1.7460e-03, 1.1069e-03, 7.8350e-01,\n",
            "         1.1442e-03, 7.5337e-02, 1.3317e-01, 1.4527e-03],\n",
            "        [3.4501e-03, 2.4544e-03, 2.5395e-04, 9.9091e-01, 2.2431e-04, 5.0628e-06,\n",
            "         5.1430e-04, 1.2111e-03, 9.5668e-04, 2.4551e-05],\n",
            "        [6.3080e-04, 9.9577e-05, 2.8026e-02, 1.1968e-03, 8.3978e-01, 6.4523e-06,\n",
            "         1.2070e-01, 1.9485e-07, 9.5511e-03, 1.9722e-06],\n",
            "        [6.7821e-04, 9.7856e-01, 6.6073e-04, 1.9288e-02, 7.5743e-04, 1.1733e-06,\n",
            "         3.3958e-05, 1.8698e-05, 1.3120e-06, 9.4058e-07],\n",
            "        [1.0902e-01, 8.7622e-03, 6.9781e-01, 6.5601e-03, 2.5026e-02, 5.4967e-04,\n",
            "         1.5086e-01, 1.0944e-06, 1.4053e-03, 7.0440e-06],\n",
            "        [2.6563e-02, 1.7740e-04, 2.6434e-01, 2.4151e-03, 1.6262e-01, 5.0845e-05,\n",
            "         5.2876e-01, 2.6300e-07, 1.5062e-02, 4.3581e-06],\n",
            "        [3.6377e-04, 1.7793e-06, 1.4758e-03, 3.3184e-05, 1.0425e-03, 5.6188e-03,\n",
            "         2.4153e-03, 1.0128e-03, 9.8641e-01, 1.6296e-03],\n",
            "        [9.5625e-01, 3.7070e-05, 2.1653e-03, 3.3375e-03, 5.9595e-05, 8.1690e-08,\n",
            "         3.8094e-02, 4.0066e-09, 5.2608e-05, 9.1786e-09],\n",
            "        [4.1116e-01, 1.1279e-02, 2.5217e-01, 2.5358e-02, 3.0265e-02, 1.2948e-03,\n",
            "         2.5159e-01, 6.2756e-05, 1.6385e-02, 4.3413e-04],\n",
            "        [4.7395e-05, 3.5008e-05, 2.4242e-04, 1.4941e-04, 2.4432e-04, 4.0867e-01,\n",
            "         9.2752e-05, 5.6488e-01, 1.9269e-02, 6.3659e-03],\n",
            "        [8.4520e-08, 1.7607e-07, 4.6849e-07, 4.5933e-07, 1.1000e-06, 1.2414e-02,\n",
            "         1.1078e-07, 9.7468e-01, 6.9314e-04, 1.2212e-02],\n",
            "        [6.3131e-06, 1.9149e-06, 1.1895e-05, 5.4776e-06, 6.9445e-06, 2.4790e-01,\n",
            "         5.0189e-06, 6.7818e-01, 2.5720e-03, 7.1308e-02],\n",
            "        [9.9995e-06, 9.9956e-01, 2.1887e-05, 3.6548e-04, 3.9551e-05, 2.3773e-07,\n",
            "         1.1729e-07, 6.5595e-06, 2.0547e-08, 8.2435e-08],\n",
            "        [1.0343e-02, 2.0685e-03, 7.3970e-01, 1.6757e-02, 4.7124e-02, 3.6772e-03,\n",
            "         1.6487e-01, 4.7439e-06, 1.5443e-02, 1.2888e-05],\n",
            "        [1.4336e-03, 6.6300e-05, 8.7969e-02, 5.3081e-04, 2.7875e-01, 1.6765e-05,\n",
            "         6.2707e-01, 2.9963e-08, 4.1634e-03, 2.1343e-06],\n",
            "        [6.2209e-01, 8.8381e-03, 5.1803e-03, 2.9985e-01, 1.0558e-02, 2.2400e-07,\n",
            "         5.3153e-02, 1.8668e-06, 3.3083e-04, 3.5055e-07],\n",
            "        [4.3393e-07, 5.0603e-08, 7.8378e-07, 1.5423e-07, 7.0467e-07, 1.4813e-02,\n",
            "         7.4203e-07, 2.3611e-01, 3.1869e-03, 7.4588e-01],\n",
            "        [1.2866e-01, 8.9621e-04, 6.3227e-03, 2.3024e-01, 2.2597e-01, 1.6713e-06,\n",
            "         3.9542e-01, 6.5086e-06, 1.2482e-02, 2.4099e-06],\n",
            "        [4.2291e-06, 7.4536e-08, 7.2145e-05, 1.2455e-05, 3.4463e-04, 7.3442e-04,\n",
            "         1.5971e-04, 1.7890e-04, 9.9838e-01, 1.1160e-04],\n",
            "        [1.1403e-02, 7.6682e-06, 3.6134e-03, 2.0766e-02, 1.3832e-03, 5.3891e-04,\n",
            "         2.7422e-02, 5.2057e-05, 9.3478e-01, 3.0975e-05],\n",
            "        [2.2055e-02, 4.2901e-03, 4.4447e-03, 9.3122e-01, 4.6619e-03, 4.1238e-04,\n",
            "         1.4773e-02, 2.0982e-03, 1.5920e-02, 1.2037e-04],\n",
            "        [8.3898e-02, 2.9840e-04, 1.2190e-02, 8.2228e-01, 4.4186e-03, 6.8074e-07,\n",
            "         7.3224e-02, 2.4028e-06, 3.6833e-03, 4.0704e-07],\n",
            "        [2.5690e-04, 1.9930e-06, 4.6314e-03, 1.3934e-03, 5.6676e-04, 2.7211e-03,\n",
            "         3.0641e-03, 8.0414e-05, 9.8725e-01, 3.2488e-05],\n",
            "        [7.8519e-01, 2.3371e-04, 1.1956e-02, 2.2202e-02, 8.0720e-04, 2.8427e-05,\n",
            "         1.7793e-01, 1.0725e-06, 1.6446e-03, 1.0439e-06],\n",
            "        [4.1571e-06, 4.2792e-06, 2.7595e-06, 5.9591e-06, 1.4207e-05, 8.5086e-03,\n",
            "         2.6471e-06, 9.8749e-01, 5.0105e-04, 3.4712e-03],\n",
            "        [3.3405e-03, 1.9267e-04, 2.7458e-03, 2.3554e-03, 4.7149e-04, 9.2159e-01,\n",
            "         4.6091e-03, 5.2385e-02, 1.0795e-02, 1.5151e-03],\n",
            "        [2.4858e-06, 4.9347e-06, 7.2139e-06, 4.4645e-06, 2.8313e-05, 1.1552e-02,\n",
            "         2.4919e-06, 9.8350e-01, 1.0143e-03, 3.8838e-03],\n",
            "        [3.3049e-08, 3.4472e-09, 6.0315e-08, 6.0402e-09, 3.3450e-08, 2.1299e-03,\n",
            "         7.4010e-08, 1.9668e-02, 2.8061e-04, 9.7792e-01],\n",
            "        [6.7529e-01, 6.3663e-06, 1.4405e-03, 3.3262e-03, 6.5614e-04, 6.0477e-08,\n",
            "         3.1882e-01, 6.5776e-09, 4.5324e-04, 5.3990e-08],\n",
            "        [1.5068e-05, 9.9967e-01, 1.7089e-05, 2.0712e-04, 8.4878e-05, 4.2606e-08,\n",
            "         2.2254e-07, 8.3492e-06, 1.0602e-08, 1.6718e-07],\n",
            "        [2.7912e-01, 2.8340e-03, 3.7598e-02, 2.3734e-01, 9.7778e-02, 3.2065e-06,\n",
            "         3.3872e-01, 1.1631e-06, 6.6001e-03, 5.1028e-07],\n",
            "        [1.1478e-07, 1.9908e-08, 1.2863e-07, 1.6355e-08, 7.7901e-08, 1.3608e-02,\n",
            "         9.9192e-08, 2.7939e-01, 1.5779e-04, 7.0684e-01],\n",
            "        [4.1201e-03, 4.2083e-05, 1.0092e-01, 2.1429e-03, 1.2808e-01, 3.1616e-06,\n",
            "         7.6218e-01, 6.1611e-09, 2.5025e-03, 1.3068e-07],\n",
            "        [3.9536e-04, 1.9181e-05, 2.9401e-04, 1.2352e-04, 1.3032e-04, 4.4644e-01,\n",
            "         5.8612e-04, 4.2312e-01, 2.9756e-02, 9.9130e-02],\n",
            "        [3.1014e-02, 6.0209e-04, 7.3370e-01, 4.8308e-03, 1.6354e-02, 4.4668e-05,\n",
            "         2.1110e-01, 9.1357e-08, 2.3515e-03, 2.8844e-06],\n",
            "        [1.9319e-03, 9.3642e-01, 7.2952e-04, 5.8920e-02, 1.8284e-03, 6.2195e-07,\n",
            "         7.2574e-05, 9.1544e-05, 3.9482e-06, 2.6116e-06],\n",
            "        [3.2007e-03, 1.7791e-02, 5.7706e-01, 1.4436e-02, 3.2296e-01, 4.2158e-04,\n",
            "         6.1580e-02, 3.4568e-06, 2.5400e-03, 7.2756e-06],\n",
            "        [6.5170e-03, 8.2122e-05, 1.5225e-01, 2.4383e-03, 5.0617e-02, 4.0895e-05,\n",
            "         7.8183e-01, 5.3358e-08, 6.2232e-03, 1.7578e-06],\n",
            "        [1.3503e-02, 3.2846e-04, 2.5568e-01, 1.2621e-03, 3.5748e-01, 6.8861e-05,\n",
            "         3.5976e-01, 3.7560e-07, 1.1910e-02, 6.6276e-06],\n",
            "        [1.0680e-02, 5.8155e-04, 5.8854e-01, 3.5377e-03, 4.0132e-02, 1.9080e-03,\n",
            "         3.4804e-01, 6.9185e-07, 6.5796e-03, 3.5840e-06],\n",
            "        [5.9236e-03, 9.1657e-04, 5.6602e-03, 5.5009e-03, 9.0015e-04, 7.7836e-01,\n",
            "         5.0869e-03, 1.7390e-01, 1.4220e-02, 9.5285e-03],\n",
            "        [4.0071e-02, 9.2447e-05, 1.0398e-01, 2.2434e-03, 1.8231e-02, 2.5357e-03,\n",
            "         6.0158e-01, 9.0304e-06, 2.3049e-01, 7.6837e-04],\n",
            "        [2.2475e-02, 1.9863e-02, 5.5230e-01, 3.7130e-02, 2.8328e-01, 6.5394e-05,\n",
            "         8.1675e-02, 1.6357e-06, 3.2101e-03, 2.1033e-06],\n",
            "        [5.8407e-02, 1.2401e-03, 8.4996e-01, 2.5160e-03, 6.7191e-03, 1.1123e-04,\n",
            "         7.9016e-02, 2.2114e-07, 2.0254e-03, 6.5250e-06],\n",
            "        [2.2487e-04, 2.9378e-07, 6.5312e-04, 2.0740e-05, 1.6150e-03, 2.6431e-04,\n",
            "         1.7480e-03, 6.8653e-05, 9.9536e-01, 4.3906e-05],\n",
            "        [9.2336e-04, 2.4205e-04, 3.8520e-01, 1.7409e-03, 3.7423e-01, 3.9585e-05,\n",
            "         2.3283e-01, 1.1348e-07, 4.7954e-03, 1.5728e-06],\n",
            "        [1.7941e-04, 1.3380e-07, 4.6444e-04, 1.0534e-05, 5.8283e-04, 4.2143e-04,\n",
            "         1.5215e-03, 7.4138e-05, 9.9669e-01, 5.3962e-05],\n",
            "        [8.8354e-01, 4.2604e-03, 1.9130e-02, 1.7759e-02, 1.7786e-03, 9.5700e-05,\n",
            "         7.2867e-02, 7.6224e-06, 5.5748e-04, 5.3863e-06],\n",
            "        [1.7788e-06, 1.0486e-06, 2.0143e-06, 3.1206e-06, 3.8691e-06, 1.4322e-02,\n",
            "         1.1754e-06, 9.8244e-01, 3.7703e-04, 2.8492e-03],\n",
            "        [5.2466e-07, 3.0418e-07, 1.3032e-06, 1.6139e-06, 2.9680e-06, 2.7121e-02,\n",
            "         7.9776e-07, 9.3733e-01, 2.6932e-03, 3.2849e-02],\n",
            "        [1.0079e-06, 6.1079e-07, 1.0213e-04, 9.8778e-06, 5.5622e-04, 6.1780e-03,\n",
            "         3.2381e-05, 6.1374e-03, 9.8419e-01, 2.7920e-03],\n",
            "        [8.9177e-04, 4.6625e-05, 1.3100e-03, 3.6753e-04, 2.1405e-04, 9.5672e-01,\n",
            "         1.8300e-03, 2.1841e-02, 1.1621e-02, 5.1592e-03]])\n"
          ],
          "name": "stdout"
        }
      ]
    },
    {
      "cell_type": "code",
      "metadata": {
        "id": "6Ij_wa7paveM",
        "colab_type": "code",
        "colab": {}
      },
      "source": [
        "with torch.no_grad():\n",
        "    num_correct = 0\n",
        "    total = 0\n",
        "\n",
        "    #set_trace()\n",
        "    for images, labels in testloader:\n",
        "        \n",
        "        logps = model(images)\n",
        "        output = torch.exp(logps)\n",
        "        \n",
        "        pred = torch.argmax(output, 1)\n",
        "        total += labels.size(0)\n"
      ],
      "execution_count": 11,
      "outputs": []
    },
    {
      "cell_type": "code",
      "metadata": {
        "id": "nyxadgAyiRqg",
        "colab_type": "code",
        "colab": {
          "base_uri": "https://localhost:8080/",
          "height": 52
        },
        "outputId": "0e07d3ee-cc71-4ba5-d6da-4e8a7b0bd921"
      },
      "source": [
        "pred, labels"
      ],
      "execution_count": 12,
      "outputs": [
        {
          "output_type": "execute_result",
          "data": {
            "text/plain": [
              "(tensor([3, 0, 7, 5, 8, 4, 5, 6, 8, 9, 1, 9, 1, 8, 1, 5]),\n",
              " tensor([3, 2, 7, 5, 8, 4, 5, 6, 8, 9, 1, 9, 1, 8, 1, 5]))"
            ]
          },
          "metadata": {
            "tags": []
          },
          "execution_count": 12
        }
      ]
    },
    {
      "cell_type": "code",
      "metadata": {
        "id": "ojLPwZLdi3OX",
        "colab_type": "code",
        "colab": {
          "base_uri": "https://localhost:8080/",
          "height": 52
        },
        "outputId": "4b8e4d28-117c-493b-de10-66c7f093684e"
      },
      "source": [
        "pred == labels"
      ],
      "execution_count": 13,
      "outputs": [
        {
          "output_type": "execute_result",
          "data": {
            "text/plain": [
              "tensor([ True, False,  True,  True,  True,  True,  True,  True,  True,  True,\n",
              "         True,  True,  True,  True,  True,  True])"
            ]
          },
          "metadata": {
            "tags": []
          },
          "execution_count": 13
        }
      ]
    },
    {
      "cell_type": "code",
      "metadata": {
        "colab_type": "code",
        "id": "6V-3r9n-iCMb",
        "colab": {
          "base_uri": "https://localhost:8080/",
          "height": 34
        },
        "outputId": "4306fd20-8b15-4182-c4c8-222e1d243229"
      },
      "source": [
        "with torch.no_grad():\n",
        "    num_correct = 0\n",
        "    total = 0\n",
        "\n",
        "    #set_trace()\n",
        "    for images, labels in testloader:\n",
        "        \n",
        "        logps = model(images)\n",
        "        output = torch.exp(logps)\n",
        "        \n",
        "        pred = torch.argmax(output, 1)\n",
        "        total += labels.size(0)\n",
        "        num_correct += (pred == labels).sum().item()\n",
        "\n",
        "    print(f'Accuracy of the model on the 10000 test images: {num_correct * 100 / total}% ')"
      ],
      "execution_count": 14,
      "outputs": [
        {
          "output_type": "stream",
          "text": [
            "Accuracy of the model on the 10000 test images: 82.09% \n"
          ],
          "name": "stdout"
        }
      ]
    },
    {
      "cell_type": "code",
      "metadata": {
        "id": "2VNQH0g6F8xH",
        "colab_type": "code",
        "colab": {}
      },
      "source": [
        ""
      ],
      "execution_count": null,
      "outputs": []
    }
  ]
}