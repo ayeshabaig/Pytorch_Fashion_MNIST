{
  "nbformat": 4,
  "nbformat_minor": 0,
  "metadata": {
    "colab": {
      "name": "Autograd_with_tensors.ipynb",
      "provenance": [],
      "collapsed_sections": [],
      "include_colab_link": true
    },
    "kernelspec": {
      "name": "python3",
      "display_name": "Python 3"
    }
  },
  "cells": [
    {
      "cell_type": "markdown",
      "metadata": {
        "id": "view-in-github",
        "colab_type": "text"
      },
      "source": [
        "<a href=\"https://colab.research.google.com/github/ayeshabaig/Pytorch_Fashion_MNIST/blob/master/Autograd_with_tensors.ipynb\" target=\"_parent\"><img src=\"https://colab.research.google.com/assets/colab-badge.svg\" alt=\"Open In Colab\"/></a>"
      ]
    },
    {
      "cell_type": "markdown",
      "metadata": {
        "id": "KPXHZpput5Xf",
        "colab_type": "text"
      },
      "source": [
        "# Autograd with tensors"
      ]
    },
    {
      "cell_type": "code",
      "metadata": {
        "id": "p-C6nLqAt98a",
        "colab_type": "code",
        "colab": {}
      },
      "source": [
        "import torch  "
      ],
      "execution_count": 4,
      "outputs": []
    },
    {
      "cell_type": "code",
      "metadata": {
        "id": "WRSfe0Lut952",
        "colab_type": "code",
        "colab": {}
      },
      "source": [
        "w = torch.randn(4,3, requires_grad=True)"
      ],
      "execution_count": 5,
      "outputs": []
    },
    {
      "cell_type": "code",
      "metadata": {
        "id": "O-QcOYO1tkOn",
        "colab_type": "code",
        "colab": {
          "base_uri": "https://localhost:8080/",
          "height": 86
        },
        "outputId": "e7146a54-cfaa-475b-8c45-b2b4c7a22280"
      },
      "source": [
        "w"
      ],
      "execution_count": 6,
      "outputs": [
        {
          "output_type": "execute_result",
          "data": {
            "text/plain": [
              "tensor([[ 1.3197, -0.6579,  0.8692],\n",
              "        [ 0.1546,  1.3743,  1.8170],\n",
              "        [-0.3878, -1.4318, -1.1047],\n",
              "        [ 0.3489,  0.4067, -1.0971]], requires_grad=True)"
            ]
          },
          "metadata": {
            "tags": []
          },
          "execution_count": 6
        }
      ]
    },
    {
      "cell_type": "code",
      "metadata": {
        "id": "FuWckF34t8X1",
        "colab_type": "code",
        "colab": {
          "base_uri": "https://localhost:8080/",
          "height": 86
        },
        "outputId": "15fdf65d-1ef4-4911-a687-f15e73623778"
      },
      "source": [
        "w.requires_grad_(False)\n",
        "w"
      ],
      "execution_count": 9,
      "outputs": [
        {
          "output_type": "execute_result",
          "data": {
            "text/plain": [
              "tensor([[ 1.3197, -0.6579,  0.8692],\n",
              "        [ 0.1546,  1.3743,  1.8170],\n",
              "        [-0.3878, -1.4318, -1.1047],\n",
              "        [ 0.3489,  0.4067, -1.0971]])"
            ]
          },
          "metadata": {
            "tags": []
          },
          "execution_count": 9
        }
      ]
    },
    {
      "cell_type": "code",
      "metadata": {
        "id": "SkQCjuabt8Vh",
        "colab_type": "code",
        "colab": {
          "base_uri": "https://localhost:8080/",
          "height": 86
        },
        "outputId": "8be2ac4d-90a1-4697-b16e-eaa61babec83"
      },
      "source": [
        "w.requires_grad_(True)"
      ],
      "execution_count": 10,
      "outputs": [
        {
          "output_type": "execute_result",
          "data": {
            "text/plain": [
              "tensor([[ 1.3197, -0.6579,  0.8692],\n",
              "        [ 0.1546,  1.3743,  1.8170],\n",
              "        [-0.3878, -1.4318, -1.1047],\n",
              "        [ 0.3489,  0.4067, -1.0971]], requires_grad=True)"
            ]
          },
          "metadata": {
            "tags": []
          },
          "execution_count": 10
        }
      ]
    },
    {
      "cell_type": "code",
      "metadata": {
        "id": "rvggJC5wt8Ti",
        "colab_type": "code",
        "colab": {
          "base_uri": "https://localhost:8080/",
          "height": 86
        },
        "outputId": "4d5a3e4b-4fb0-4073-dde8-c9d31b399e59"
      },
      "source": [
        "y = torch.exp(w)\n",
        "print(y)"
      ],
      "execution_count": 14,
      "outputs": [
        {
          "output_type": "stream",
          "text": [
            "tensor([[3.7424, 0.5179, 2.3850],\n",
            "        [1.1672, 3.9524, 6.1536],\n",
            "        [0.6786, 0.2389, 0.3313],\n",
            "        [1.4175, 1.5018, 0.3338]], grad_fn=<ExpBackward>)\n"
          ],
          "name": "stdout"
        }
      ]
    },
    {
      "cell_type": "code",
      "metadata": {
        "id": "PEg2PQiXt8RR",
        "colab_type": "code",
        "colab": {
          "base_uri": "https://localhost:8080/",
          "height": 34
        },
        "outputId": "6e61bcba-ac65-4658-fc6a-ba7e2c1ae863"
      },
      "source": [
        "print(y.grad_fn)"
      ],
      "execution_count": 15,
      "outputs": [
        {
          "output_type": "stream",
          "text": [
            "<ExpBackward object at 0x7f3375b15cf8>\n"
          ],
          "name": "stdout"
        }
      ]
    },
    {
      "cell_type": "code",
      "metadata": {
        "id": "QZopoC8It8O7",
        "colab_type": "code",
        "colab": {
          "base_uri": "https://localhost:8080/",
          "height": 34
        },
        "outputId": "25373cd4-8270-456b-b6b7-294ff003e94d"
      },
      "source": [
        "outp = y.mean()\n",
        "print(outp)\n"
      ],
      "execution_count": 22,
      "outputs": [
        {
          "output_type": "stream",
          "text": [
            "tensor(1.8684, grad_fn=<MeanBackward0>)\n"
          ],
          "name": "stdout"
        }
      ]
    },
    {
      "cell_type": "code",
      "metadata": {
        "id": "ManI6K2rt8HD",
        "colab_type": "code",
        "colab": {
          "base_uri": "https://localhost:8080/",
          "height": 34
        },
        "outputId": "6cf578ed-594c-4606-be21-0e5890282a47"
      },
      "source": [
        "print(w.grad)"
      ],
      "execution_count": 17,
      "outputs": [
        {
          "output_type": "stream",
          "text": [
            "None\n"
          ],
          "name": "stdout"
        }
      ]
    },
    {
      "cell_type": "code",
      "metadata": {
        "id": "tbQpKI4it8EJ",
        "colab_type": "code",
        "colab": {}
      },
      "source": [
        "outp.backward()"
      ],
      "execution_count": 23,
      "outputs": []
    },
    {
      "cell_type": "code",
      "metadata": {
        "id": "Qq3KkSGvt8B_",
        "colab_type": "code",
        "colab": {
          "base_uri": "https://localhost:8080/",
          "height": 86
        },
        "outputId": "fbc1d295-8960-4378-c7dc-00f474bf3bdc"
      },
      "source": [
        "print(w.grad)"
      ],
      "execution_count": 24,
      "outputs": [
        {
          "output_type": "stream",
          "text": [
            "tensor([[0.3119, 0.0432, 0.1988],\n",
            "        [0.0973, 0.3294, 0.5128],\n",
            "        [0.0565, 0.0199, 0.0276],\n",
            "        [0.1181, 0.1252, 0.0278]])\n"
          ],
          "name": "stdout"
        }
      ]
    },
    {
      "cell_type": "code",
      "metadata": {
        "id": "SgOzb_QMt7_-",
        "colab_type": "code",
        "colab": {
          "base_uri": "https://localhost:8080/",
          "height": 86
        },
        "outputId": "27f7cbc7-8111-4a0b-ca73-df4579288cf4"
      },
      "source": [
        "print(w.detach())"
      ],
      "execution_count": 26,
      "outputs": [
        {
          "output_type": "stream",
          "text": [
            "tensor([[ 1.3197, -0.6579,  0.8692],\n",
            "        [ 0.1546,  1.3743,  1.8170],\n",
            "        [-0.3878, -1.4318, -1.1047],\n",
            "        [ 0.3489,  0.4067, -1.0971]])\n"
          ],
          "name": "stdout"
        }
      ]
    },
    {
      "cell_type": "code",
      "metadata": {
        "id": "zVpIjfJ9t79q",
        "colab_type": "code",
        "colab": {
          "base_uri": "https://localhost:8080/",
          "height": 52
        },
        "outputId": "663f7713-0a91-4093-d42b-734e4baa1f03"
      },
      "source": [
        "print(outp.requires_grad)\n",
        "with torch.no_grad():\n",
        "  outp = (w+y).mean()\n",
        "\n",
        "  print(outp.requires_grad)"
      ],
      "execution_count": 29,
      "outputs": [
        {
          "output_type": "stream",
          "text": [
            "True\n",
            "False\n"
          ],
          "name": "stdout"
        }
      ]
    },
    {
      "cell_type": "code",
      "metadata": {
        "id": "_zJ-R2vvt77R",
        "colab_type": "code",
        "colab": {}
      },
      "source": [
        ""
      ],
      "execution_count": null,
      "outputs": []
    },
    {
      "cell_type": "code",
      "metadata": {
        "id": "uXriXeRvt75Z",
        "colab_type": "code",
        "colab": {}
      },
      "source": [
        ""
      ],
      "execution_count": null,
      "outputs": []
    },
    {
      "cell_type": "code",
      "metadata": {
        "id": "J89G4qJjt73R",
        "colab_type": "code",
        "colab": {}
      },
      "source": [
        ""
      ],
      "execution_count": null,
      "outputs": []
    },
    {
      "cell_type": "code",
      "metadata": {
        "id": "j6LeAdwRt71B",
        "colab_type": "code",
        "colab": {}
      },
      "source": [
        ""
      ],
      "execution_count": null,
      "outputs": []
    },
    {
      "cell_type": "code",
      "metadata": {
        "id": "cg0PVIylt7y1",
        "colab_type": "code",
        "colab": {}
      },
      "source": [
        ""
      ],
      "execution_count": null,
      "outputs": []
    },
    {
      "cell_type": "code",
      "metadata": {
        "id": "ZO2B3MaSt7we",
        "colab_type": "code",
        "colab": {}
      },
      "source": [
        ""
      ],
      "execution_count": null,
      "outputs": []
    },
    {
      "cell_type": "code",
      "metadata": {
        "id": "oOG09FTEt7uO",
        "colab_type": "code",
        "colab": {}
      },
      "source": [
        ""
      ],
      "execution_count": null,
      "outputs": []
    },
    {
      "cell_type": "code",
      "metadata": {
        "id": "EIOQXJu-t7sK",
        "colab_type": "code",
        "colab": {}
      },
      "source": [
        ""
      ],
      "execution_count": null,
      "outputs": []
    },
    {
      "cell_type": "code",
      "metadata": {
        "id": "bkjm3Hp3t7p-",
        "colab_type": "code",
        "colab": {}
      },
      "source": [
        ""
      ],
      "execution_count": null,
      "outputs": []
    }
  ]
}